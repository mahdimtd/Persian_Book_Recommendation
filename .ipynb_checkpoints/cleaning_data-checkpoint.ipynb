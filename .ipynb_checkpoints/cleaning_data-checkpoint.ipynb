{
 "cells": [
  {
   "cell_type": "code",
   "execution_count": 1,
   "id": "c0721a3d-bd0e-48e3-a67b-7e34f2c607cb",
   "metadata": {},
   "outputs": [],
   "source": [
    "import pandas as pd\n",
    "import seaborn as sns\n",
    "import matplotlib.pyplot as plt\n",
    "import numpy as np"
   ]
  },
  {
   "cell_type": "code",
   "execution_count": 2,
   "id": "021b9e53-5e74-4f14-af43-3cc919b6bf51",
   "metadata": {},
   "outputs": [],
   "source": [
    "df = pd.read_csv('book_extracted.csv')"
   ]
  },
  {
   "cell_type": "code",
   "execution_count": 3,
   "id": "ccdb4843-cd48-4c21-940a-2e053fdec32e",
   "metadata": {},
   "outputs": [
    {
     "data": {
      "text/html": [
       "<div>\n",
       "<style scoped>\n",
       "    .dataframe tbody tr th:only-of-type {\n",
       "        vertical-align: middle;\n",
       "    }\n",
       "\n",
       "    .dataframe tbody tr th {\n",
       "        vertical-align: top;\n",
       "    }\n",
       "\n",
       "    .dataframe thead th {\n",
       "        text-align: right;\n",
       "    }\n",
       "</style>\n",
       "<table border=\"1\" class=\"dataframe\">\n",
       "  <thead>\n",
       "    <tr style=\"text-align: right;\">\n",
       "      <th></th>\n",
       "      <th>book_id</th>\n",
       "      <th>title</th>\n",
       "      <th>aurthor</th>\n",
       "      <th>category</th>\n",
       "      <th>description</th>\n",
       "      <th>poster-src</th>\n",
       "      <th>published year</th>\n",
       "      <th>num pages</th>\n",
       "    </tr>\n",
       "  </thead>\n",
       "  <tbody>\n",
       "    <tr>\n",
       "      <th>0</th>\n",
       "      <td>36716</td>\n",
       "      <td>زندگی نامرئی ادی لارو</td>\n",
       "      <td>وی. ای. شواب</td>\n",
       "      <td>امتیاز:۳.۸از ۳۶ رأیخواندن نظرات</td>\n",
       "      <td>ستاره‌های خیلی زیادی در آسمان هستند و آن شب خی...</td>\n",
       "      <td>https://img.taaghche.com/frontCover/215165.jpg...</td>\n",
       "      <td>سال انتشار۱۴۰۳</td>\n",
       "      <td>تعداد صفحه‌ها۷۲۰ صفحه</td>\n",
       "    </tr>\n",
       "    <tr>\n",
       "      <th>1</th>\n",
       "      <td>47196</td>\n",
       "      <td>رازهای خلاقیت استیو جابز</td>\n",
       "      <td>کارماین گالو</td>\n",
       "      <td>NaN</td>\n",
       "      <td>«استیو جابز» موسس شرکت اپل یکی از موفق‌ترین مب...</td>\n",
       "      <td>https://img.taaghche.com/audioCover/33358.jpg</td>\n",
       "      <td>سال انتشار</td>\n",
       "      <td>تعداد صفحه‌ها۰ صفحه</td>\n",
       "    </tr>\n",
       "    <tr>\n",
       "      <th>2</th>\n",
       "      <td>67141</td>\n",
       "      <td>عزاداران بیل</td>\n",
       "      <td>غلامحسین ساعدی</td>\n",
       "      <td>NaN</td>\n",
       "      <td>ساعدی با چوب بدست های ورزیل، بهترین بابای دنیا...</td>\n",
       "      <td>https://img.taaghche.com/frontCover/3124.jpg?w...</td>\n",
       "      <td>سال انتشار۱۳۸۸</td>\n",
       "      <td>تعداد صفحه‌ها۲۰۸ صفحه</td>\n",
       "    </tr>\n",
       "    <tr>\n",
       "      <th>3</th>\n",
       "      <td>57259</td>\n",
       "      <td>روحانیت و حوزه</td>\n",
       "      <td>علی صفایی حائری</td>\n",
       "      <td>NaN</td>\n",
       "      <td>کتاب‌ «روحانیت و حوزه» نوشته استاد صفایی از پر...</td>\n",
       "      <td>https://img.taaghche.com/frontCover/45287.jpg</td>\n",
       "      <td>سال انتشار ۱۳۹۰</td>\n",
       "      <td>تعداد صفحه‌ها۲۴۰ صفحه</td>\n",
       "    </tr>\n",
       "    <tr>\n",
       "      <th>4</th>\n",
       "      <td>66843</td>\n",
       "      <td>مهمانخانه قاچاقچی ها</td>\n",
       "      <td>کیت میلفرد</td>\n",
       "      <td>امتیاز:۴.۳از ۳۸ رأیخواندن نظرات</td>\n",
       "      <td>خانم پاین دست‌به‌سینه ایستاده بود تا فریاد مای...</td>\n",
       "      <td>https://img.taaghche.com/frontCover/90150.jpg?...</td>\n",
       "      <td>سال انتشار۱۳۹۶</td>\n",
       "      <td>تعداد صفحه‌ها۳۶۸ صفحه</td>\n",
       "    </tr>\n",
       "  </tbody>\n",
       "</table>\n",
       "</div>"
      ],
      "text/plain": [
       "   book_id                     title          aurthor  \\\n",
       "0    36716     زندگی نامرئی ادی لارو     وی. ای. شواب   \n",
       "1    47196  رازهای خلاقیت استیو جابز     کارماین گالو   \n",
       "2    67141              عزاداران بیل   غلامحسین ساعدی   \n",
       "3    57259            روحانیت و حوزه  علی صفایی حائری   \n",
       "4    66843      مهمانخانه قاچاقچی ها       کیت میلفرد   \n",
       "\n",
       "                          category  \\\n",
       "0  امتیاز:۳.۸از ۳۶ رأیخواندن نظرات   \n",
       "1                              NaN   \n",
       "2                              NaN   \n",
       "3                              NaN   \n",
       "4  امتیاز:۴.۳از ۳۸ رأیخواندن نظرات   \n",
       "\n",
       "                                         description  \\\n",
       "0  ستاره‌های خیلی زیادی در آسمان هستند و آن شب خی...   \n",
       "1  «استیو جابز» موسس شرکت اپل یکی از موفق‌ترین مب...   \n",
       "2  ساعدی با چوب بدست های ورزیل، بهترین بابای دنیا...   \n",
       "3  کتاب‌ «روحانیت و حوزه» نوشته استاد صفایی از پر...   \n",
       "4  خانم پاین دست‌به‌سینه ایستاده بود تا فریاد مای...   \n",
       "\n",
       "                                          poster-src   published year  \\\n",
       "0  https://img.taaghche.com/frontCover/215165.jpg...   سال انتشار۱۴۰۳   \n",
       "1      https://img.taaghche.com/audioCover/33358.jpg      سال انتشار    \n",
       "2  https://img.taaghche.com/frontCover/3124.jpg?w...   سال انتشار۱۳۸۸   \n",
       "3      https://img.taaghche.com/frontCover/45287.jpg  سال انتشار ۱۳۹۰   \n",
       "4  https://img.taaghche.com/frontCover/90150.jpg?...   سال انتشار۱۳۹۶   \n",
       "\n",
       "               num pages  \n",
       "0  تعداد صفحه‌ها۷۲۰ صفحه  \n",
       "1    تعداد صفحه‌ها۰ صفحه  \n",
       "2  تعداد صفحه‌ها۲۰۸ صفحه  \n",
       "3  تعداد صفحه‌ها۲۴۰ صفحه  \n",
       "4  تعداد صفحه‌ها۳۶۸ صفحه  "
      ]
     },
     "execution_count": 3,
     "metadata": {},
     "output_type": "execute_result"
    }
   ],
   "source": [
    "df.head()"
   ]
  },
  {
   "cell_type": "code",
   "execution_count": 8,
   "id": "4c5dbbcd-ab1d-417f-be84-3bf07c8d2ed4",
   "metadata": {},
   "outputs": [
    {
     "name": "stdout",
     "output_type": "stream",
     "text": [
      "<class 'pandas.core.frame.DataFrame'>\n",
      "RangeIndex: 5705 entries, 0 to 5704\n",
      "Data columns (total 8 columns):\n",
      " #   Column          Non-Null Count  Dtype \n",
      "---  ------          --------------  ----- \n",
      " 0   book_id         5705 non-null   int64 \n",
      " 1   title           5705 non-null   object\n",
      " 2   aurthor         5705 non-null   object\n",
      " 3   category        2585 non-null   object\n",
      " 4   description     4246 non-null   object\n",
      " 5   poster-src      5705 non-null   object\n",
      " 6   published year  5701 non-null   object\n",
      " 7   num pages       5628 non-null   object\n",
      "dtypes: int64(1), object(7)\n",
      "memory usage: 356.7+ KB\n"
     ]
    }
   ],
   "source": [
    "df.info()"
   ]
  },
  {
   "cell_type": "code",
   "execution_count": 9,
   "id": "4de27e15-db1b-4219-92a8-5f99a343cf5c",
   "metadata": {},
   "outputs": [
    {
     "data": {
      "text/plain": [
       "book_id              0\n",
       "title                0\n",
       "aurthor              0\n",
       "category          3120\n",
       "description       1459\n",
       "poster-src           0\n",
       "published year       4\n",
       "num pages           77\n",
       "dtype: int64"
      ]
     },
     "execution_count": 9,
     "metadata": {},
     "output_type": "execute_result"
    }
   ],
   "source": [
    "df.isnull().sum()"
   ]
  },
  {
   "cell_type": "code",
   "execution_count": 11,
   "id": "0820311f-4fb1-4d65-bda9-289ea7e7bc12",
   "metadata": {},
   "outputs": [
    {
     "data": {
      "image/png": "[encoded data removed]",
      "text/plain": [
       "<Figure size 640x480 with 1 Axes>"
      ]
     },
     "metadata": {},
     "output_type": "display_data"
    }
   ],
   "source": [
    "ax = plt.axes()\n",
    "sns.heatmap(df.isna().transpose(),cbar=False,ax=ax)\n",
    "plt.xlabel('column')\n",
    "plt.ylabel('NAN')\n",
    "plt.show()"
   ]
  },
  {
   "cell_type": "code",
   "execution_count": 12,
   "id": "bc3c10fd-32f4-463a-b5e0-c9c6904298a2",
   "metadata": {},
   "outputs": [],
   "source": [
    "df['missing_description'] = np.where(df['description'].isna(),1,0)\n"
   ]
  },
  {
   "cell_type": "code",
   "execution_count": 17,
   "id": "fd388100-41c9-4e08-b7f7-e7829cdbe518",
   "metadata": {},
   "outputs": [],
   "source": [
    "book = df[~(df['description'].isna()) &\n",
    "    ~(df['num pages'].isna()) &\n",
    "    ~(df['published year'].isna())]"
   ]
  },
  {
   "cell_type": "code",
   "execution_count": 18,
   "id": "d156990a-07e4-4423-ae42-3f6b9da6aa40",
   "metadata": {},
   "outputs": [
    {
     "data": {
      "text/plain": [
       "book_id                   0\n",
       "title                     0\n",
       "aurthor                   0\n",
       "category               2540\n",
       "description               0\n",
       "poster-src                0\n",
       "published year            0\n",
       "num pages                 0\n",
       "missing_description       0\n",
       "dtype: int64"
      ]
     },
     "execution_count": 18,
     "metadata": {},
     "output_type": "execute_result"
    }
   ],
   "source": [
    "book.isnull().sum()"
   ]
  },
  {
   "cell_type": "code",
   "execution_count": 19,
   "id": "3a9620f0-268e-452a-9cd1-0eec3d7c6c3b",
   "metadata": {},
   "outputs": [
    {
     "name": "stdout",
     "output_type": "stream",
     "text": [
      "<class 'pandas.core.frame.DataFrame'>\n",
      "Index: 4214 entries, 0 to 5703\n",
      "Data columns (total 9 columns):\n",
      " #   Column               Non-Null Count  Dtype \n",
      "---  ------               --------------  ----- \n",
      " 0   book_id              4214 non-null   int64 \n",
      " 1   title                4214 non-null   object\n",
      " 2   aurthor              4214 non-null   object\n",
      " 3   category             1674 non-null   object\n",
      " 4   description          4214 non-null   object\n",
      " 5   poster-src           4214 non-null   object\n",
      " 6   published year       4214 non-null   object\n",
      " 7   num pages            4214 non-null   object\n",
      " 8   missing_description  4214 non-null   int64 \n",
      "dtypes: int64(2), object(7)\n",
      "memory usage: 329.2+ KB\n"
     ]
    }
   ],
   "source": [
    "book.info()"
   ]
  },
  {
   "cell_type": "code",
   "execution_count": 20,
   "id": "e46a994f-8f7c-4924-9ddd-14d42b2fe19f",
   "metadata": {},
   "outputs": [
    {
     "data": {
      "text/plain": [
       "0       تعداد صفحه‌ها۷۲۰ صفحه\n",
       "1         تعداد صفحه‌ها۰ صفحه\n",
       "2       تعداد صفحه‌ها۲۰۸ صفحه\n",
       "3       تعداد صفحه‌ها۲۴۰ صفحه\n",
       "4       تعداد صفحه‌ها۳۶۸ صفحه\n",
       "                ...          \n",
       "5698     تعداد صفحه‌ها۲۴ صفحه\n",
       "5699    تعداد صفحه‌ها۵۳۶ صفحه\n",
       "5700    تعداد صفحه‌ها۲۶۴ صفحه\n",
       "5701    تعداد صفحه‌ها۵۸۲ صفحه\n",
       "5703    تعداد صفحه‌ها۳۵۶ صفحه\n",
       "Name: num pages, Length: 4214, dtype: object"
      ]
     },
     "execution_count": 20,
     "metadata": {},
     "output_type": "execute_result"
    }
   ],
   "source": [
    "book['num pages']"
   ]
  },
  {
   "cell_type": "code",
   "execution_count": 21,
   "id": "0fb6e538-e79b-4262-abe4-e468f3160c1b",
   "metadata": {},
   "outputs": [
    {
     "name": "stderr",
     "output_type": "stream",
     "text": [
      "C:\\Users\\Mahdimtd\\AppData\\Local\\Temp\\ipykernel_6764\\2295834376.py:1: SettingWithCopyWarning: \n",
      "A value is trying to be set on a copy of a slice from a DataFrame.\n",
      "Try using .loc[row_indexer,col_indexer] = value instead\n",
      "\n",
      "See the caveats in the documentation: https://pandas.pydata.org/pandas-docs/stable/user_guide/indexing.html#returning-a-view-versus-a-copy\n",
      "  book['num pages'] = book['num pages'].str.extract('(\\d+)')\n"
     ]
    }
   ],
   "source": [
    "book['num pages'] = book['num pages'].str.extract('(\\d+)')"
   ]
  },
  {
   "cell_type": "code",
   "execution_count": 22,
   "id": "846b3e65-1c26-44c9-b16c-87cf9bc96e5d",
   "metadata": {},
   "outputs": [
    {
     "data": {
      "text/plain": [
       "0       ۷۲۰\n",
       "1         ۰\n",
       "2       ۲۰۸\n",
       "3       ۲۴۰\n",
       "4       ۳۶۸\n",
       "       ... \n",
       "5698     ۲۴\n",
       "5699    ۵۳۶\n",
       "5700    ۲۶۴\n",
       "5701    ۵۸۲\n",
       "5703    ۳۵۶\n",
       "Name: num pages, Length: 4214, dtype: object"
      ]
     },
     "execution_count": 22,
     "metadata": {},
     "output_type": "execute_result"
    }
   ],
   "source": [
    "book['num pages']"
   ]
  },
  {
   "cell_type": "code",
   "execution_count": 23,
   "id": "92a16bee-01cd-4d3a-8284-5e81b446a3cf",
   "metadata": {},
   "outputs": [
    {
     "name": "stderr",
     "output_type": "stream",
     "text": [
      "C:\\Users\\Mahdimtd\\AppData\\Local\\Temp\\ipykernel_6764\\3770695957.py:1: SettingWithCopyWarning: \n",
      "A value is trying to be set on a copy of a slice from a DataFrame.\n",
      "Try using .loc[row_indexer,col_indexer] = value instead\n",
      "\n",
      "See the caveats in the documentation: https://pandas.pydata.org/pandas-docs/stable/user_guide/indexing.html#returning-a-view-versus-a-copy\n",
      "  book['published year'] = book['published year'].str.extract('(\\d+)')\n"
     ]
    }
   ],
   "source": [
    "book['published year'] = book['published year'].str.extract('(\\d+)')"
   ]
  },
  {
   "cell_type": "code",
   "execution_count": 26,
   "id": "7aafffdd-fb3d-408b-8416-a2d68dbb91cc",
   "metadata": {},
   "outputs": [
    {
     "data": {
      "text/plain": [
       "book_id                   0\n",
       "title                     0\n",
       "aurthor                   0\n",
       "category               2540\n",
       "description               0\n",
       "poster-src                0\n",
       "published year          266\n",
       "num pages                 0\n",
       "missing_description       0\n",
       "dtype: int64"
      ]
     },
     "execution_count": 26,
     "metadata": {},
     "output_type": "execute_result"
    }
   ],
   "source": [
    "book.isnull().sum()"
   ]
  },
  {
   "cell_type": "code",
   "execution_count": 27,
   "id": "c11eba86-af98-40ed-b844-7f85f29b64c9",
   "metadata": {},
   "outputs": [
    {
     "name": "stderr",
     "output_type": "stream",
     "text": [
      "C:\\Users\\Mahdimtd\\AppData\\Local\\Temp\\ipykernel_6764\\3257594531.py:1: SettingWithCopyWarning: \n",
      "A value is trying to be set on a copy of a slice from a DataFrame.\n",
      "Try using .loc[row_indexer,col_indexer] = value instead\n",
      "\n",
      "See the caveats in the documentation: https://pandas.pydata.org/pandas-docs/stable/user_guide/indexing.html#returning-a-view-versus-a-copy\n",
      "  book['word_count_desctiption'] = book['description'].str.split().str.len()\n"
     ]
    }
   ],
   "source": [
    "book['word_count_desctiption'] = book['description'].str.split().str.len()"
   ]
  },
  {
   "cell_type": "code",
   "execution_count": 28,
   "id": "3c34fe85-1af4-4fb1-aac7-5e8e64c3afb6",
   "metadata": {},
   "outputs": [
    {
     "data": {
      "text/plain": [
       "0       14\n",
       "1       84\n",
       "2       50\n",
       "3       72\n",
       "4       58\n",
       "        ..\n",
       "5698    46\n",
       "5699    60\n",
       "5700    92\n",
       "5701    32\n",
       "5703     8\n",
       "Name: word_count_desctiption, Length: 4214, dtype: int64"
      ]
     },
     "execution_count": 28,
     "metadata": {},
     "output_type": "execute_result"
    }
   ],
   "source": [
    "book['word_count_desctiption']"
   ]
  },
  {
   "cell_type": "code",
   "execution_count": 29,
   "id": "38b32ab3-313d-48d7-a683-c9fa5cab45b8",
   "metadata": {},
   "outputs": [
    {
     "data": {
      "text/plain": [
       "6                     #NAME?\n",
       "77                    «سلام.\n",
       "112           فصل سوم: روایت\n",
       "143     «تقریباً بهتر شده.‌»\n",
       "230                پیش‌گفتار\n",
       "                ...         \n",
       "5515               «چی بگم؟»\n",
       "5569              فرهاد بود.\n",
       "5624         -‌ آره، بیا تو.\n",
       "5664                  #NAME?\n",
       "5697                  #NAME?\n",
       "Name: description, Length: 146, dtype: object"
      ]
     },
     "execution_count": 29,
     "metadata": {},
     "output_type": "execute_result"
    }
   ],
   "source": [
    "book.loc[book['word_count_desctiption'].between(1,4),'description']"
   ]
  },
  {
   "cell_type": "code",
   "execution_count": 30,
   "id": "3ae53a01-1a02-4ab5-8757-4685b5e6d64e",
   "metadata": {},
   "outputs": [
    {
     "data": {
      "text/plain": [
       "0       ستاره‌های خیلی زیادی در آسمان هستند و آن شب خی...\n",
       "11      این کتاب را به تمام جوانانی که به نبال زندگی ا...\n",
       "24      «مادربزرگ خوبم» مجموعه‌ای از اشعار کودکانه اخل...\n",
       "36                     ... همه‌جا آرام... همه‌چیز روشن...\n",
       "71      جنون مینیمالیسم: آیا تمیزی و سادگی ما را نجات ...\n",
       "                              ...                        \n",
       "5666              زان می‌که در شب‌های غم، بارد فروغ صبحدم\n",
       "5680    شکوفه بدون حرف نگاهش می‌کرد. کلاریس فنجانش را ...\n",
       "5686    میترا در ذهنم جا گرفته است و دلم هم می‌خواهدش....\n",
       "5689    «فکر می‌کردم خودت می‌فهمی که استیو را نمی‌خواهم.»\n",
       "5703          _ «پس که این‌طور... یه جور کامپیوتره، آره؟»\n",
       "Name: description, Length: 435, dtype: object"
      ]
     },
     "execution_count": 30,
     "metadata": {},
     "output_type": "execute_result"
    }
   ],
   "source": [
    "book.loc[book['word_count_desctiption'].between(5,14),'description']"
   ]
  },
  {
   "cell_type": "code",
   "execution_count": 37,
   "id": "0a6575f4-2dab-4089-bb78-3fbab0992469",
   "metadata": {},
   "outputs": [
    {
     "data": {
      "text/plain": [
       "6                                                  #NAME?\n",
       "36                     ... همه‌جا آرام... همه‌چیز روشن...\n",
       "77                                                 «سلام.\n",
       "83      آدام لُبُر، نویسنده نیوزویک درباره مارشال گفته...\n",
       "89                   بخشی از کتاب حرف‌هایی برای امروزی‌ها\n",
       "                              ...                        \n",
       "5664                                               #NAME?\n",
       "5666              زان می‌که در شب‌های غم، بارد فروغ صبحدم\n",
       "5689    «فکر می‌کردم خودت می‌فهمی که استیو را نمی‌خواهم.»\n",
       "5697                                               #NAME?\n",
       "5703          _ «پس که این‌طور... یه جور کامپیوتره، آره؟»\n",
       "Name: description, Length: 389, dtype: object"
      ]
     },
     "execution_count": 37,
     "metadata": {},
     "output_type": "execute_result"
    }
   ],
   "source": [
    "book.loc[book['word_count_desctiption'].between(1,10),'description']"
   ]
  },
  {
   "cell_type": "code",
   "execution_count": 38,
   "id": "8eb5c6d0-a0f0-450c-b16e-4aee07567353",
   "metadata": {},
   "outputs": [],
   "source": [
    "book_10_words = book[book['word_count_desctiption'] >=10 ]"
   ]
  },
  {
   "cell_type": "code",
   "execution_count": 39,
   "id": "145f48f4-ef2f-4533-9e84-f46901c1931a",
   "metadata": {},
   "outputs": [
    {
     "data": {
      "text/plain": [
       "(3866, 10)"
      ]
     },
     "execution_count": 39,
     "metadata": {},
     "output_type": "execute_result"
    }
   ],
   "source": [
    "book_10_words.shape"
   ]
  },
  {
   "cell_type": "code",
   "execution_count": 40,
   "id": "dd6e699e-9cb5-439a-9dda-2aaad4df9adc",
   "metadata": {},
   "outputs": [
    {
     "name": "stderr",
     "output_type": "stream",
     "text": [
      "C:\\Users\\Mahdimtd\\AppData\\Local\\Temp\\ipykernel_6764\\2092211094.py:1: SettingWithCopyWarning: \n",
      "A value is trying to be set on a copy of a slice from a DataFrame.\n",
      "Try using .loc[row_indexer,col_indexer] = value instead\n",
      "\n",
      "See the caveats in the documentation: https://pandas.pydata.org/pandas-docs/stable/user_guide/indexing.html#returning-a-view-versus-a-copy\n",
      "  book_10_words['tagged_description'] = book_10_words[['book_id','description']].astype(str).agg(''.join,axis=1)\n"
     ]
    }
   ],
   "source": [
    "book_10_words['tagged_description'] = book_10_words[['book_id','description']].astype(str).agg(''.join,axis=1)"
   ]
  },
  {
   "cell_type": "code",
   "execution_count": 41,
   "id": "847486f9-089b-4bde-b65d-447c333cf995",
   "metadata": {},
   "outputs": [
    {
     "data": {
      "text/html": [
       "<div>\n",
       "<style scoped>\n",
       "    .dataframe tbody tr th:only-of-type {\n",
       "        vertical-align: middle;\n",
       "    }\n",
       "\n",
       "    .dataframe tbody tr th {\n",
       "        vertical-align: top;\n",
       "    }\n",
       "\n",
       "    .dataframe thead th {\n",
       "        text-align: right;\n",
       "    }\n",
       "</style>\n",
       "<table border=\"1\" class=\"dataframe\">\n",
       "  <thead>\n",
       "    <tr style=\"text-align: right;\">\n",
       "      <th></th>\n",
       "      <th>book_id</th>\n",
       "      <th>title</th>\n",
       "      <th>aurthor</th>\n",
       "      <th>category</th>\n",
       "      <th>description</th>\n",
       "      <th>poster-src</th>\n",
       "      <th>published year</th>\n",
       "      <th>num pages</th>\n",
       "      <th>missing_description</th>\n",
       "      <th>word_count_desctiption</th>\n",
       "      <th>tagged_description</th>\n",
       "    </tr>\n",
       "  </thead>\n",
       "  <tbody>\n",
       "    <tr>\n",
       "      <th>0</th>\n",
       "      <td>36716</td>\n",
       "      <td>زندگی نامرئی ادی لارو</td>\n",
       "      <td>وی. ای. شواب</td>\n",
       "      <td>امتیاز:۳.۸از ۳۶ رأیخواندن نظرات</td>\n",
       "      <td>ستاره‌های خیلی زیادی در آسمان هستند و آن شب خی...</td>\n",
       "      <td>https://img.taaghche.com/frontCover/215165.jpg...</td>\n",
       "      <td>۱۴۰۳</td>\n",
       "      <td>۷۲۰</td>\n",
       "      <td>0</td>\n",
       "      <td>14</td>\n",
       "      <td>36716ستاره‌های خیلی زیادی در آسمان هستند و آن ...</td>\n",
       "    </tr>\n",
       "    <tr>\n",
       "      <th>1</th>\n",
       "      <td>47196</td>\n",
       "      <td>رازهای خلاقیت استیو جابز</td>\n",
       "      <td>کارماین گالو</td>\n",
       "      <td>NaN</td>\n",
       "      <td>«استیو جابز» موسس شرکت اپل یکی از موفق‌ترین مب...</td>\n",
       "      <td>https://img.taaghche.com/audioCover/33358.jpg</td>\n",
       "      <td>NaN</td>\n",
       "      <td>۰</td>\n",
       "      <td>0</td>\n",
       "      <td>84</td>\n",
       "      <td>47196«استیو جابز» موسس شرکت اپل یکی از موفق‌تر...</td>\n",
       "    </tr>\n",
       "    <tr>\n",
       "      <th>2</th>\n",
       "      <td>67141</td>\n",
       "      <td>عزاداران بیل</td>\n",
       "      <td>غلامحسین ساعدی</td>\n",
       "      <td>NaN</td>\n",
       "      <td>ساعدی با چوب بدست های ورزیل، بهترین بابای دنیا...</td>\n",
       "      <td>https://img.taaghche.com/frontCover/3124.jpg?w...</td>\n",
       "      <td>۱۳۸۸</td>\n",
       "      <td>۲۰۸</td>\n",
       "      <td>0</td>\n",
       "      <td>50</td>\n",
       "      <td>67141ساعدی با چوب بدست های ورزیل، بهترین بابای...</td>\n",
       "    </tr>\n",
       "    <tr>\n",
       "      <th>3</th>\n",
       "      <td>57259</td>\n",
       "      <td>روحانیت و حوزه</td>\n",
       "      <td>علی صفایی حائری</td>\n",
       "      <td>NaN</td>\n",
       "      <td>کتاب‌ «روحانیت و حوزه» نوشته استاد صفایی از پر...</td>\n",
       "      <td>https://img.taaghche.com/frontCover/45287.jpg</td>\n",
       "      <td>۱۳۹۰</td>\n",
       "      <td>۲۴۰</td>\n",
       "      <td>0</td>\n",
       "      <td>72</td>\n",
       "      <td>57259کتاب‌ «روحانیت و حوزه» نوشته استاد صفایی ...</td>\n",
       "    </tr>\n",
       "    <tr>\n",
       "      <th>4</th>\n",
       "      <td>66843</td>\n",
       "      <td>مهمانخانه قاچاقچی ها</td>\n",
       "      <td>کیت میلفرد</td>\n",
       "      <td>امتیاز:۴.۳از ۳۸ رأیخواندن نظرات</td>\n",
       "      <td>خانم پاین دست‌به‌سینه ایستاده بود تا فریاد مای...</td>\n",
       "      <td>https://img.taaghche.com/frontCover/90150.jpg?...</td>\n",
       "      <td>۱۳۹۶</td>\n",
       "      <td>۳۶۸</td>\n",
       "      <td>0</td>\n",
       "      <td>58</td>\n",
       "      <td>66843خانم پاین دست‌به‌سینه ایستاده بود تا فریا...</td>\n",
       "    </tr>\n",
       "    <tr>\n",
       "      <th>...</th>\n",
       "      <td>...</td>\n",
       "      <td>...</td>\n",
       "      <td>...</td>\n",
       "      <td>...</td>\n",
       "      <td>...</td>\n",
       "      <td>...</td>\n",
       "      <td>...</td>\n",
       "      <td>...</td>\n",
       "      <td>...</td>\n",
       "      <td>...</td>\n",
       "      <td>...</td>\n",
       "    </tr>\n",
       "    <tr>\n",
       "      <th>5696</th>\n",
       "      <td>69311</td>\n",
       "      <td>کتاب کبریت ایران</td>\n",
       "      <td>مهدی صادقی</td>\n",
       "      <td>NaN</td>\n",
       "      <td>آن چه در این کتاب پیش روی شماست، مروری است بر ...</td>\n",
       "      <td>https://img.taaghche.com/frontCover/42390.jpg</td>\n",
       "      <td>۱۳۹۴</td>\n",
       "      <td>۲۷۲</td>\n",
       "      <td>0</td>\n",
       "      <td>176</td>\n",
       "      <td>69311آن چه در این کتاب پیش روی شماست، مروری اس...</td>\n",
       "    </tr>\n",
       "    <tr>\n",
       "      <th>5698</th>\n",
       "      <td>37886</td>\n",
       "      <td>کی بود؟ کی بود؟ آناس دوست بخور منو نه با پوست ...</td>\n",
       "      <td>ناصر کشاورز</td>\n",
       "      <td>NaN</td>\n",
       "      <td>«کی بود؟ کی بود؟ آناس دوست بخور منو نه با پوست...</td>\n",
       "      <td>https://img.taaghche.com/frontCover/11715.jpg</td>\n",
       "      <td>۱۳۹۱</td>\n",
       "      <td>۲۴</td>\n",
       "      <td>0</td>\n",
       "      <td>46</td>\n",
       "      <td>37886«کی بود؟ کی بود؟ آناس دوست بخور منو نه با...</td>\n",
       "    </tr>\n",
       "    <tr>\n",
       "      <th>5699</th>\n",
       "      <td>28228</td>\n",
       "      <td>دروغ گویی روی مبل</td>\n",
       "      <td>اروین د. یالوم</td>\n",
       "      <td>امتیاز:۴.۱از ۲۸ رأیخواندن نظرات</td>\n",
       "      <td>در سینما نیز فیلم‌هایی با الهام از آثار اروین ...</td>\n",
       "      <td>https://img.taaghche.com/frontCover/203008.jpg...</td>\n",
       "      <td>۱۴۰۲</td>\n",
       "      <td>۵۳۶</td>\n",
       "      <td>0</td>\n",
       "      <td>60</td>\n",
       "      <td>28228در سینما نیز فیلم‌هایی با الهام از آثار ا...</td>\n",
       "    </tr>\n",
       "    <tr>\n",
       "      <th>5700</th>\n",
       "      <td>63091</td>\n",
       "      <td>صداهایی از چرنوبیل</td>\n",
       "      <td>سوتلانا  آلکسیویچ</td>\n",
       "      <td>امتیاز:۴.۳از ۲۲۱ رأیخواندن نظرات</td>\n",
       "      <td>آن روز غروب نتوانستم وارد بیمارستان بشوم. سیل ...</td>\n",
       "      <td>https://img.taaghche.com/frontCover/7756.jpg?w...</td>\n",
       "      <td>۱۳۹۴</td>\n",
       "      <td>۲۶۴</td>\n",
       "      <td>0</td>\n",
       "      <td>92</td>\n",
       "      <td>63091آن روز غروب نتوانستم وارد بیمارستان بشوم....</td>\n",
       "    </tr>\n",
       "    <tr>\n",
       "      <th>5701</th>\n",
       "      <td>83697</td>\n",
       "      <td>یه نفر مثل تو</td>\n",
       "      <td>ویدا چراغیان</td>\n",
       "      <td>NaN</td>\n",
       "      <td>با صدای او، نگاه فروشنده و مرد جوانی پوشیده در...</td>\n",
       "      <td>https://img.taaghche.com/frontCover/104738.jpg...</td>\n",
       "      <td>۱۳۹۸</td>\n",
       "      <td>۵۸۲</td>\n",
       "      <td>0</td>\n",
       "      <td>32</td>\n",
       "      <td>83697با صدای او، نگاه فروشنده و مرد جوانی پوشی...</td>\n",
       "    </tr>\n",
       "  </tbody>\n",
       "</table>\n",
       "<p>3866 rows × 11 columns</p>\n",
       "</div>"
      ],
      "text/plain": [
       "      book_id                                              title  \\\n",
       "0       36716                              زندگی نامرئی ادی لارو   \n",
       "1       47196                           رازهای خلاقیت استیو جابز   \n",
       "2       67141                                       عزاداران بیل   \n",
       "3       57259                                     روحانیت و حوزه   \n",
       "4       66843                               مهمانخانه قاچاقچی ها   \n",
       "...       ...                                                ...   \n",
       "5696    69311                                   کتاب کبریت ایران   \n",
       "5698    37886  کی بود؟ کی بود؟ آناس دوست بخور منو نه با پوست ...   \n",
       "5699    28228                                  دروغ گویی روی مبل   \n",
       "5700    63091                                 صداهایی از چرنوبیل   \n",
       "5701    83697                                      یه نفر مثل تو   \n",
       "\n",
       "                aurthor                          category  \\\n",
       "0          وی. ای. شواب   امتیاز:۳.۸از ۳۶ رأیخواندن نظرات   \n",
       "1          کارماین گالو                               NaN   \n",
       "2        غلامحسین ساعدی                               NaN   \n",
       "3       علی صفایی حائری                               NaN   \n",
       "4            کیت میلفرد   امتیاز:۴.۳از ۳۸ رأیخواندن نظرات   \n",
       "...                 ...                               ...   \n",
       "5696         مهدی صادقی                               NaN   \n",
       "5698        ناصر کشاورز                               NaN   \n",
       "5699     اروین د. یالوم   امتیاز:۴.۱از ۲۸ رأیخواندن نظرات   \n",
       "5700  سوتلانا  آلکسیویچ  امتیاز:۴.۳از ۲۲۱ رأیخواندن نظرات   \n",
       "5701       ویدا چراغیان                               NaN   \n",
       "\n",
       "                                            description  \\\n",
       "0     ستاره‌های خیلی زیادی در آسمان هستند و آن شب خی...   \n",
       "1     «استیو جابز» موسس شرکت اپل یکی از موفق‌ترین مب...   \n",
       "2     ساعدی با چوب بدست های ورزیل، بهترین بابای دنیا...   \n",
       "3     کتاب‌ «روحانیت و حوزه» نوشته استاد صفایی از پر...   \n",
       "4     خانم پاین دست‌به‌سینه ایستاده بود تا فریاد مای...   \n",
       "...                                                 ...   \n",
       "5696  آن چه در این کتاب پیش روی شماست، مروری است بر ...   \n",
       "5698  «کی بود؟ کی بود؟ آناس دوست بخور منو نه با پوست...   \n",
       "5699  در سینما نیز فیلم‌هایی با الهام از آثار اروین ...   \n",
       "5700  آن روز غروب نتوانستم وارد بیمارستان بشوم. سیل ...   \n",
       "5701  با صدای او، نگاه فروشنده و مرد جوانی پوشیده در...   \n",
       "\n",
       "                                             poster-src published year  \\\n",
       "0     https://img.taaghche.com/frontCover/215165.jpg...           ۱۴۰۳   \n",
       "1         https://img.taaghche.com/audioCover/33358.jpg            NaN   \n",
       "2     https://img.taaghche.com/frontCover/3124.jpg?w...           ۱۳۸۸   \n",
       "3         https://img.taaghche.com/frontCover/45287.jpg           ۱۳۹۰   \n",
       "4     https://img.taaghche.com/frontCover/90150.jpg?...           ۱۳۹۶   \n",
       "...                                                 ...            ...   \n",
       "5696      https://img.taaghche.com/frontCover/42390.jpg           ۱۳۹۴   \n",
       "5698      https://img.taaghche.com/frontCover/11715.jpg           ۱۳۹۱   \n",
       "5699  https://img.taaghche.com/frontCover/203008.jpg...           ۱۴۰۲   \n",
       "5700  https://img.taaghche.com/frontCover/7756.jpg?w...           ۱۳۹۴   \n",
       "5701  https://img.taaghche.com/frontCover/104738.jpg...           ۱۳۹۸   \n",
       "\n",
       "     num pages  missing_description  word_count_desctiption  \\\n",
       "0          ۷۲۰                    0                      14   \n",
       "1            ۰                    0                      84   \n",
       "2          ۲۰۸                    0                      50   \n",
       "3          ۲۴۰                    0                      72   \n",
       "4          ۳۶۸                    0                      58   \n",
       "...        ...                  ...                     ...   \n",
       "5696       ۲۷۲                    0                     176   \n",
       "5698        ۲۴                    0                      46   \n",
       "5699       ۵۳۶                    0                      60   \n",
       "5700       ۲۶۴                    0                      92   \n",
       "5701       ۵۸۲                    0                      32   \n",
       "\n",
       "                                     tagged_description  \n",
       "0     36716ستاره‌های خیلی زیادی در آسمان هستند و آن ...  \n",
       "1     47196«استیو جابز» موسس شرکت اپل یکی از موفق‌تر...  \n",
       "2     67141ساعدی با چوب بدست های ورزیل، بهترین بابای...  \n",
       "3     57259کتاب‌ «روحانیت و حوزه» نوشته استاد صفایی ...  \n",
       "4     66843خانم پاین دست‌به‌سینه ایستاده بود تا فریا...  \n",
       "...                                                 ...  \n",
       "5696  69311آن چه در این کتاب پیش روی شماست، مروری اس...  \n",
       "5698  37886«کی بود؟ کی بود؟ آناس دوست بخور منو نه با...  \n",
       "5699  28228در سینما نیز فیلم‌هایی با الهام از آثار ا...  \n",
       "5700  63091آن روز غروب نتوانستم وارد بیمارستان بشوم....  \n",
       "5701  83697با صدای او، نگاه فروشنده و مرد جوانی پوشی...  \n",
       "\n",
       "[3866 rows x 11 columns]"
      ]
     },
     "execution_count": 41,
     "metadata": {},
     "output_type": "execute_result"
    }
   ],
   "source": [
    "book_10_words"
   ]
  },
  {
   "cell_type": "code",
   "execution_count": 44,
   "id": "e4ca12f6-5fc9-4025-a2e4-2acc9862b41d",
   "metadata": {},
   "outputs": [
    {
     "name": "stderr",
     "output_type": "stream",
     "text": [
      "C:\\Users\\Mahdimtd\\AppData\\Local\\Temp\\ipykernel_6764\\1151768422.py:1: SettingWithCopyWarning: \n",
      "A value is trying to be set on a copy of a slice from a DataFrame\n",
      "\n",
      "See the caveats in the documentation: https://pandas.pydata.org/pandas-docs/stable/user_guide/indexing.html#returning-a-view-versus-a-copy\n",
      "  book_10_words.drop(['missing_description','word_count_desctiption','category'],axis=1,inplace=True)\n"
     ]
    }
   ],
   "source": [
    "book_10_words.drop(['missing_description','word_count_desctiption','category'],axis=1,inplace=True)"
   ]
  },
  {
   "cell_type": "code",
   "execution_count": 45,
   "id": "e0671bf9-d8ce-4dff-9369-7fb10c0a8800",
   "metadata": {},
   "outputs": [
    {
     "data": {
      "text/html": [
       "<div>\n",
       "<style scoped>\n",
       "    .dataframe tbody tr th:only-of-type {\n",
       "        vertical-align: middle;\n",
       "    }\n",
       "\n",
       "    .dataframe tbody tr th {\n",
       "        vertical-align: top;\n",
       "    }\n",
       "\n",
       "    .dataframe thead th {\n",
       "        text-align: right;\n",
       "    }\n",
       "</style>\n",
       "<table border=\"1\" class=\"dataframe\">\n",
       "  <thead>\n",
       "    <tr style=\"text-align: right;\">\n",
       "      <th></th>\n",
       "      <th>book_id</th>\n",
       "      <th>title</th>\n",
       "      <th>aurthor</th>\n",
       "      <th>description</th>\n",
       "      <th>poster-src</th>\n",
       "      <th>published year</th>\n",
       "      <th>num pages</th>\n",
       "      <th>tagged_description</th>\n",
       "    </tr>\n",
       "  </thead>\n",
       "  <tbody>\n",
       "    <tr>\n",
       "      <th>0</th>\n",
       "      <td>36716</td>\n",
       "      <td>زندگی نامرئی ادی لارو</td>\n",
       "      <td>وی. ای. شواب</td>\n",
       "      <td>ستاره‌های خیلی زیادی در آسمان هستند و آن شب خی...</td>\n",
       "      <td>https://img.taaghche.com/frontCover/215165.jpg...</td>\n",
       "      <td>۱۴۰۳</td>\n",
       "      <td>۷۲۰</td>\n",
       "      <td>36716ستاره‌های خیلی زیادی در آسمان هستند و آن ...</td>\n",
       "    </tr>\n",
       "    <tr>\n",
       "      <th>1</th>\n",
       "      <td>47196</td>\n",
       "      <td>رازهای خلاقیت استیو جابز</td>\n",
       "      <td>کارماین گالو</td>\n",
       "      <td>«استیو جابز» موسس شرکت اپل یکی از موفق‌ترین مب...</td>\n",
       "      <td>https://img.taaghche.com/audioCover/33358.jpg</td>\n",
       "      <td>NaN</td>\n",
       "      <td>۰</td>\n",
       "      <td>47196«استیو جابز» موسس شرکت اپل یکی از موفق‌تر...</td>\n",
       "    </tr>\n",
       "    <tr>\n",
       "      <th>2</th>\n",
       "      <td>67141</td>\n",
       "      <td>عزاداران بیل</td>\n",
       "      <td>غلامحسین ساعدی</td>\n",
       "      <td>ساعدی با چوب بدست های ورزیل، بهترین بابای دنیا...</td>\n",
       "      <td>https://img.taaghche.com/frontCover/3124.jpg?w...</td>\n",
       "      <td>۱۳۸۸</td>\n",
       "      <td>۲۰۸</td>\n",
       "      <td>67141ساعدی با چوب بدست های ورزیل، بهترین بابای...</td>\n",
       "    </tr>\n",
       "    <tr>\n",
       "      <th>3</th>\n",
       "      <td>57259</td>\n",
       "      <td>روحانیت و حوزه</td>\n",
       "      <td>علی صفایی حائری</td>\n",
       "      <td>کتاب‌ «روحانیت و حوزه» نوشته استاد صفایی از پر...</td>\n",
       "      <td>https://img.taaghche.com/frontCover/45287.jpg</td>\n",
       "      <td>۱۳۹۰</td>\n",
       "      <td>۲۴۰</td>\n",
       "      <td>57259کتاب‌ «روحانیت و حوزه» نوشته استاد صفایی ...</td>\n",
       "    </tr>\n",
       "    <tr>\n",
       "      <th>4</th>\n",
       "      <td>66843</td>\n",
       "      <td>مهمانخانه قاچاقچی ها</td>\n",
       "      <td>کیت میلفرد</td>\n",
       "      <td>خانم پاین دست‌به‌سینه ایستاده بود تا فریاد مای...</td>\n",
       "      <td>https://img.taaghche.com/frontCover/90150.jpg?...</td>\n",
       "      <td>۱۳۹۶</td>\n",
       "      <td>۳۶۸</td>\n",
       "      <td>66843خانم پاین دست‌به‌سینه ایستاده بود تا فریا...</td>\n",
       "    </tr>\n",
       "    <tr>\n",
       "      <th>...</th>\n",
       "      <td>...</td>\n",
       "      <td>...</td>\n",
       "      <td>...</td>\n",
       "      <td>...</td>\n",
       "      <td>...</td>\n",
       "      <td>...</td>\n",
       "      <td>...</td>\n",
       "      <td>...</td>\n",
       "    </tr>\n",
       "    <tr>\n",
       "      <th>5696</th>\n",
       "      <td>69311</td>\n",
       "      <td>کتاب کبریت ایران</td>\n",
       "      <td>مهدی صادقی</td>\n",
       "      <td>آن چه در این کتاب پیش روی شماست، مروری است بر ...</td>\n",
       "      <td>https://img.taaghche.com/frontCover/42390.jpg</td>\n",
       "      <td>۱۳۹۴</td>\n",
       "      <td>۲۷۲</td>\n",
       "      <td>69311آن چه در این کتاب پیش روی شماست، مروری اس...</td>\n",
       "    </tr>\n",
       "    <tr>\n",
       "      <th>5698</th>\n",
       "      <td>37886</td>\n",
       "      <td>کی بود؟ کی بود؟ آناس دوست بخور منو نه با پوست ...</td>\n",
       "      <td>ناصر کشاورز</td>\n",
       "      <td>«کی بود؟ کی بود؟ آناس دوست بخور منو نه با پوست...</td>\n",
       "      <td>https://img.taaghche.com/frontCover/11715.jpg</td>\n",
       "      <td>۱۳۹۱</td>\n",
       "      <td>۲۴</td>\n",
       "      <td>37886«کی بود؟ کی بود؟ آناس دوست بخور منو نه با...</td>\n",
       "    </tr>\n",
       "    <tr>\n",
       "      <th>5699</th>\n",
       "      <td>28228</td>\n",
       "      <td>دروغ گویی روی مبل</td>\n",
       "      <td>اروین د. یالوم</td>\n",
       "      <td>در سینما نیز فیلم‌هایی با الهام از آثار اروین ...</td>\n",
       "      <td>https://img.taaghche.com/frontCover/203008.jpg...</td>\n",
       "      <td>۱۴۰۲</td>\n",
       "      <td>۵۳۶</td>\n",
       "      <td>28228در سینما نیز فیلم‌هایی با الهام از آثار ا...</td>\n",
       "    </tr>\n",
       "    <tr>\n",
       "      <th>5700</th>\n",
       "      <td>63091</td>\n",
       "      <td>صداهایی از چرنوبیل</td>\n",
       "      <td>سوتلانا  آلکسیویچ</td>\n",
       "      <td>آن روز غروب نتوانستم وارد بیمارستان بشوم. سیل ...</td>\n",
       "      <td>https://img.taaghche.com/frontCover/7756.jpg?w...</td>\n",
       "      <td>۱۳۹۴</td>\n",
       "      <td>۲۶۴</td>\n",
       "      <td>63091آن روز غروب نتوانستم وارد بیمارستان بشوم....</td>\n",
       "    </tr>\n",
       "    <tr>\n",
       "      <th>5701</th>\n",
       "      <td>83697</td>\n",
       "      <td>یه نفر مثل تو</td>\n",
       "      <td>ویدا چراغیان</td>\n",
       "      <td>با صدای او، نگاه فروشنده و مرد جوانی پوشیده در...</td>\n",
       "      <td>https://img.taaghche.com/frontCover/104738.jpg...</td>\n",
       "      <td>۱۳۹۸</td>\n",
       "      <td>۵۸۲</td>\n",
       "      <td>83697با صدای او، نگاه فروشنده و مرد جوانی پوشی...</td>\n",
       "    </tr>\n",
       "  </tbody>\n",
       "</table>\n",
       "<p>3866 rows × 8 columns</p>\n",
       "</div>"
      ],
      "text/plain": [
       "      book_id                                              title  \\\n",
       "0       36716                              زندگی نامرئی ادی لارو   \n",
       "1       47196                           رازهای خلاقیت استیو جابز   \n",
       "2       67141                                       عزاداران بیل   \n",
       "3       57259                                     روحانیت و حوزه   \n",
       "4       66843                               مهمانخانه قاچاقچی ها   \n",
       "...       ...                                                ...   \n",
       "5696    69311                                   کتاب کبریت ایران   \n",
       "5698    37886  کی بود؟ کی بود؟ آناس دوست بخور منو نه با پوست ...   \n",
       "5699    28228                                  دروغ گویی روی مبل   \n",
       "5700    63091                                 صداهایی از چرنوبیل   \n",
       "5701    83697                                      یه نفر مثل تو   \n",
       "\n",
       "                aurthor                                        description  \\\n",
       "0          وی. ای. شواب  ستاره‌های خیلی زیادی در آسمان هستند و آن شب خی...   \n",
       "1          کارماین گالو  «استیو جابز» موسس شرکت اپل یکی از موفق‌ترین مب...   \n",
       "2        غلامحسین ساعدی  ساعدی با چوب بدست های ورزیل، بهترین بابای دنیا...   \n",
       "3       علی صفایی حائری  کتاب‌ «روحانیت و حوزه» نوشته استاد صفایی از پر...   \n",
       "4            کیت میلفرد  خانم پاین دست‌به‌سینه ایستاده بود تا فریاد مای...   \n",
       "...                 ...                                                ...   \n",
       "5696         مهدی صادقی  آن چه در این کتاب پیش روی شماست، مروری است بر ...   \n",
       "5698        ناصر کشاورز  «کی بود؟ کی بود؟ آناس دوست بخور منو نه با پوست...   \n",
       "5699     اروین د. یالوم  در سینما نیز فیلم‌هایی با الهام از آثار اروین ...   \n",
       "5700  سوتلانا  آلکسیویچ  آن روز غروب نتوانستم وارد بیمارستان بشوم. سیل ...   \n",
       "5701       ویدا چراغیان  با صدای او، نگاه فروشنده و مرد جوانی پوشیده در...   \n",
       "\n",
       "                                             poster-src published year  \\\n",
       "0     https://img.taaghche.com/frontCover/215165.jpg...           ۱۴۰۳   \n",
       "1         https://img.taaghche.com/audioCover/33358.jpg            NaN   \n",
       "2     https://img.taaghche.com/frontCover/3124.jpg?w...           ۱۳۸۸   \n",
       "3         https://img.taaghche.com/frontCover/45287.jpg           ۱۳۹۰   \n",
       "4     https://img.taaghche.com/frontCover/90150.jpg?...           ۱۳۹۶   \n",
       "...                                                 ...            ...   \n",
       "5696      https://img.taaghche.com/frontCover/42390.jpg           ۱۳۹۴   \n",
       "5698      https://img.taaghche.com/frontCover/11715.jpg           ۱۳۹۱   \n",
       "5699  https://img.taaghche.com/frontCover/203008.jpg...           ۱۴۰۲   \n",
       "5700  https://img.taaghche.com/frontCover/7756.jpg?w...           ۱۳۹۴   \n",
       "5701  https://img.taaghche.com/frontCover/104738.jpg...           ۱۳۹۸   \n",
       "\n",
       "     num pages                                 tagged_description  \n",
       "0          ۷۲۰  36716ستاره‌های خیلی زیادی در آسمان هستند و آن ...  \n",
       "1            ۰  47196«استیو جابز» موسس شرکت اپل یکی از موفق‌تر...  \n",
       "2          ۲۰۸  67141ساعدی با چوب بدست های ورزیل، بهترین بابای...  \n",
       "3          ۲۴۰  57259کتاب‌ «روحانیت و حوزه» نوشته استاد صفایی ...  \n",
       "4          ۳۶۸  66843خانم پاین دست‌به‌سینه ایستاده بود تا فریا...  \n",
       "...        ...                                                ...  \n",
       "5696       ۲۷۲  69311آن چه در این کتاب پیش روی شماست، مروری اس...  \n",
       "5698        ۲۴  37886«کی بود؟ کی بود؟ آناس دوست بخور منو نه با...  \n",
       "5699       ۵۳۶  28228در سینما نیز فیلم‌هایی با الهام از آثار ا...  \n",
       "5700       ۲۶۴  63091آن روز غروب نتوانستم وارد بیمارستان بشوم....  \n",
       "5701       ۵۸۲  83697با صدای او، نگاه فروشنده و مرد جوانی پوشی...  \n",
       "\n",
       "[3866 rows x 8 columns]"
      ]
     },
     "execution_count": 45,
     "metadata": {},
     "output_type": "execute_result"
    }
   ],
   "source": [
    "book_10_words"
   ]
  },
  {
   "cell_type": "code",
   "execution_count": 46,
   "id": "b48eb2ac-2d32-4e43-93b9-fe024be63a0f",
   "metadata": {},
   "outputs": [],
   "source": [
    "book_10_words.to_csv('cleaned_data.csv')"
   ]
  },
  {
   "cell_type": "code",
   "execution_count": null,
   "id": "30771aee-b9b1-4b11-991c-007182693ff5",
   "metadata": {},
   "outputs": [],
   "source": []
  }
 ],
 "metadata": {
  "kernelspec": {
   "display_name": "Python 3 (ipykernel)",
   "language": "python",
   "name": "python3"
  },
  "language_info": {
   "codemirror_mode": {
    "name": "ipython",
    "version": 3
   },
   "file_extension": ".py",
   "mimetype": "text/x-python",
   "name": "python",
   "nbconvert_exporter": "python",
   "pygments_lexer": "ipython3",
   "version": "3.9.21"
  }
 },
 "nbformat": 4,
 "nbformat_minor": 5
}
